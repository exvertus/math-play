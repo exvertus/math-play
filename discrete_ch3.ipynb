{
 "cells": [
  {
   "cell_type": "markdown",
   "id": "3879fffb-51bf-4d19-8183-5acbc0d1b828",
   "metadata": {},
   "source": [
    "## Discrete Mathematics with Applications\n",
    "### Selected excercises from chapter 3"
   ]
  },
  {
   "cell_type": "markdown",
   "id": "6cb64fba-5b90-41e1-89df-a2aa9631c594",
   "metadata": {},
   "source": [
    "#### Exercise Set 3.1"
   ]
  },
  {
   "cell_type": "markdown",
   "id": "985176fa-4b1b-4b64-b7e7-6a21e5776f7d",
   "metadata": {},
   "source": [
    "##### 8. There is a real number x such that x > 1 and 2^x > x^10.  "
   ]
  },
  {
   "cell_type": "code",
   "execution_count": 1,
   "id": "e67216f7-0431-4a2b-8a8c-e19e26448b97",
   "metadata": {},
   "outputs": [
    {
     "data": {
      "text/plain": [
       "True"
      ]
     },
     "execution_count": 1,
     "metadata": {},
     "output_type": "execute_result"
    }
   ],
   "source": [
    "2**1.01 > 1.01**10"
   ]
  },
  {
   "cell_type": "code",
   "execution_count": 5,
   "id": "4e926857-397d-429f-be38-81c93e6f82f9",
   "metadata": {},
   "outputs": [
    {
     "data": {
      "text/plain": [
       "<matplotlib.legend.Legend at 0x1efb8cca350>"
      ]
     },
     "execution_count": 5,
     "metadata": {},
     "output_type": "execute_result"
    },
    {
     "data": {
      "image/png": "[encoded data removed]",
      "text/plain": [
       "<Figure size 640x480 with 1 Axes>"
      ]
     },
     "metadata": {},
     "output_type": "display_data"
    }
   ],
   "source": [
    "import matplotlib.pyplot as plt\n",
    "import numpy as np\n",
    "\n",
    "x = np.linspace(1, 1.25, 100)\n",
    "\n",
    "fig, ax = plt.subplots()\n",
    "ax.plot(x, 2**x, label=\"2^x\")\n",
    "ax.plot(x, x**10, label=\"x^10\")\n",
    "ax.set_xlabel(\"input\")\n",
    "ax.set_ylabel(\"result\")\n",
    "ax.legend()"
   ]
  },
  {
   "cell_type": "markdown",
   "id": "97dce826-4d6f-420a-9ec3-63a9fe7e36a0",
   "metadata": {},
   "source": [
    "##### 58. If *p* is a prime number, must 2^*p* - 1 also be prime?"
   ]
  },
  {
   "cell_type": "code",
   "execution_count": 9,
   "id": "309997cb-fd1b-4844-9c32-82e7deb6ed66",
   "metadata": {},
   "outputs": [
    {
     "name": "stdout",
     "output_type": "stream",
     "text": [
      "--  ------------------------------  -----\n",
      " 2                               3  True\n",
      " 3                               7  True\n",
      " 5                              31  True\n",
      " 7                             127  True\n",
      "11                            2047  False\n",
      "13                            8191  True\n",
      "17                          131071  True\n",
      "19                          524287  True\n",
      "23                         8388607  False\n",
      "29                       536870911  False\n",
      "31                      2147483647  True\n",
      "37                    137438953471  False\n",
      "41                   2199023255551  False\n",
      "43                   8796093022207  False\n",
      "47                 140737488355327  False\n",
      "53                9007199254740991  False\n",
      "59              576460752303423487  False\n",
      "61             2305843009213693951  True\n",
      "67           147573952589676412927  False\n",
      "71          2361183241434822606847  False\n",
      "73          9444732965739290427391  False\n",
      "79        604462909807314587353087  False\n",
      "83       9671406556917033397649407  False\n",
      "89     618970019642690137449562111  True\n",
      "97  158456325028528675187087900671  False\n",
      "--  ------------------------------  -----\n"
     ]
    }
   ],
   "source": [
    "import sympy\n",
    "from tabulate import tabulate\n",
    "\n",
    "def fifty_eight(p):\n",
    "    return 2**p - 1\n",
    "\n",
    "answers = []\n",
    "for prime in sympy.primerange(100):\n",
    "    result = fifty_eight(prime)\n",
    "    answers.append([prime, result, sympy.isprime(result)])\n",
    "print(tabulate(answers))"
   ]
  },
  {
   "cell_type": "code",
   "execution_count": 8,
   "id": "917586f5-12df-437c-b492-e6e69a86a75f",
   "metadata": {},
   "outputs": [
    {
     "data": {
      "text/plain": [
       "[23, 89]"
      ]
     },
     "execution_count": 8,
     "metadata": {},
     "output_type": "execute_result"
    }
   ],
   "source": [
    "sympy.primefactors(2047)"
   ]
  },
  {
   "cell_type": "markdown",
   "id": "ad23668c-c885-4b6b-bd3d-7cf9607e5693",
   "metadata": {},
   "source": [
    "##### 59. If *n* is a nonnegative integer, must 2^2^*n* + 1 be prime?"
   ]
  },
  {
   "cell_type": "code",
   "execution_count": 6,
   "id": "a27ed02c-c029-43a7-b58a-802e03602eff",
   "metadata": {},
   "outputs": [
    {
     "name": "stdout",
     "output_type": "stream",
     "text": [
      "-  --------------------  -----\n",
      "0                     3  True\n",
      "1                     5  True\n",
      "2                    17  True\n",
      "3                   257  True\n",
      "4                 65537  True\n",
      "5            4294967297  False\n",
      "6  18446744073709551617  False\n",
      "-  --------------------  -----\n"
     ]
    }
   ],
   "source": [
    "import sympy\n",
    "from tabulate import tabulate\n",
    "\n",
    "def print_for_range(m_call, int_range):\n",
    "    answer_grid = []\n",
    "    for i in range(int_range):\n",
    "        result = m_call(i)\n",
    "        answer_grid.append([i, result, sympy.isprime(result)])\n",
    "    print(tabulate(answer_grid))\n",
    "\n",
    "print_for_range(lambda x : 2**2**x + 1, 7)"
   ]
  },
  {
   "cell_type": "code",
   "execution_count": 7,
   "id": "34a8580f-0c18-49a4-8d90-206ab18b4d0d",
   "metadata": {},
   "outputs": [
    {
     "data": {
      "text/plain": [
       "[641, 6700417]"
      ]
     },
     "execution_count": 7,
     "metadata": {},
     "output_type": "execute_result"
    }
   ],
   "source": [
    "sympy.primefactors(4294967297)"
   ]
  },
  {
   "cell_type": "markdown",
   "id": "75547391-af36-481c-b746-74e4f719977b",
   "metadata": {},
   "source": [
    "#### Exercise Set 3.2"
   ]
  },
  {
   "cell_type": "markdown",
   "id": "c9608452-1a25-4a39-ad4d-42a4bf4c9872",
   "metadata": {},
   "source": [
    "##### 28. Suppose a, b, and c are integers and x, y, and z are nonzero real numbers that satisfy the following equations:\n",
    "##### xy/(x + y) = a  \n",
    "##### xz/(x + z) = b  \n",
    "##### yz/(y + z) = c  \n",
    "##### Is x rational? If so, express it as a ratio of two integers."
   ]
  },
  {
   "cell_type": "markdown",
   "id": "9cdadb17-667d-4009-bda8-2db9bdb22842",
   "metadata": {},
   "source": [
    "#### Exercise Set 3.3"
   ]
  },
  {
   "cell_type": "markdown",
   "id": "c9effd93-9b90-4535-b687-e8cbdee9bda8",
   "metadata": {},
   "source": [
    "##### 46. Given a positive integer *n* written in decimal form, the alternating sum of the digits of *n* is obtained by starting with the right-most digit, subtracting the digit immediately to its left, adding the next digit to the left, subtracting the next digit, and so forth. For example, the alternating sum of the digits of 180,928 is 8 - 2 + 9 - 0 + 8 - 1 = 22. Justify the fact that for any nonnegative integer *n*, if the alternating sum of the digits of *n* is divisible by 11, then *n* is divisible by 11.\n",
    "[Helper spreadsheet](https://docs.google.com/spreadsheets/d/17DuZgi0JDa-CkGtgbZPtdOQPZ_9xVZCaSPQIub_5plQ/edit?gid=0#gid=0)"
   ]
  },
  {
   "cell_type": "code",
   "execution_count": null,
   "id": "e3cb6358-dd6b-4d0f-98c0-a4452c651b54",
   "metadata": {},
   "outputs": [],
   "source": []
  }
 ],
 "metadata": {
  "kernelspec": {
   "display_name": "Python 3 (ipykernel)",
   "language": "python",
   "name": "python3"
  },
  "language_info": {
   "codemirror_mode": {
    "name": "ipython",
    "version": 3
   },
   "file_extension": ".py",
   "mimetype": "text/x-python",
   "name": "python",
   "nbconvert_exporter": "python",
   "pygments_lexer": "ipython3",
   "version": "3.13.2"
  }
 },
 "nbformat": 4,
 "nbformat_minor": 5
}
